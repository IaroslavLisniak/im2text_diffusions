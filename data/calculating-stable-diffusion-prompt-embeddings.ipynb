{
 "cells": [
  {
   "cell_type": "markdown",
   "id": "22dcbe0d",
   "metadata": {
    "papermill": {
     "duration": 0.004331,
     "end_time": "2023-02-13T02:17:56.951317",
     "exception": false,
     "start_time": "2023-02-13T02:17:56.946986",
     "status": "completed"
    },
    "tags": []
   },
   "source": [
    "## Calculating prompt embeddings for the Stable Diffusion Competition\n",
    "\n",
    "This notebook demonstrates how to the [sentence-transformers](https://github.com/UKPLab/sentence-transformers/) library to calculate sentence embeddings.\n",
    " [[docs](https://www.sbert.net/index.html)]\n",
    "\n",
    "\n",
    "**NOTE:** Since the re-run notebooks won't have internet access, you will need to attach the dataset [sentence-transformers-222](https://www.kaggle.com/datasets/inversion/sentence-transformers-222) to your notebooks to be able to install the Sentence Transformers library and access the `all-MiniLM-L6-v2` model used for encodings during the notebook re-run on the test data."
   ]
  },
  {
   "cell_type": "code",
   "execution_count": 1,
   "id": "98062e65",
   "metadata": {
    "_cell_guid": "b1076dfc-b9ad-4769-8c92-a6c4dae69d19",
    "_uuid": "8f2839f25d086af736a60e9eeb907d3b93b6e0e5",
    "execution": {
     "iopub.execute_input": "2023-02-13T02:17:56.961048Z",
     "iopub.status.busy": "2023-02-13T02:17:56.959982Z",
     "iopub.status.idle": "2023-02-13T02:18:01.261519Z",
     "shell.execute_reply": "2023-02-13T02:18:01.260268Z"
    },
    "papermill": {
     "duration": 4.309829,
     "end_time": "2023-02-13T02:18:01.264606",
     "exception": false,
     "start_time": "2023-02-13T02:17:56.954777",
     "status": "completed"
    },
    "tags": []
   },
   "outputs": [],
   "source": [
    "import sys\n",
    "import numpy as np\n",
    "import pandas as pd\n",
    "from pathlib import Path\n",
    "\n",
    "sys.path.append('../input/sentence-transformers-222/sentence-transformers')\n",
    "from sentence_transformers import SentenceTransformer, models\n",
    "\n",
    "comp_path = Path('/kaggle/input/stable-diffusion-image-to-prompts/')"
   ]
  },
  {
   "cell_type": "markdown",
   "id": "6b4d32bc",
   "metadata": {
    "papermill": {
     "duration": 0.003187,
     "end_time": "2023-02-13T02:18:01.271337",
     "exception": false,
     "start_time": "2023-02-13T02:18:01.268150",
     "status": "completed"
    },
    "tags": []
   },
   "source": [
    "## Actual prompts used for the images\n",
    "\n",
    "**NOTE:** This file will *not* be available for the notebook re-run. References to it will create notebook failures."
   ]
  },
  {
   "cell_type": "code",
   "execution_count": 2,
   "id": "98cf84d3",
   "metadata": {
    "execution": {
     "iopub.execute_input": "2023-02-13T02:18:01.280499Z",
     "iopub.status.busy": "2023-02-13T02:18:01.279354Z",
     "iopub.status.idle": "2023-02-13T02:18:01.316019Z",
     "shell.execute_reply": "2023-02-13T02:18:01.314936Z"
    },
    "papermill": {
     "duration": 0.044167,
     "end_time": "2023-02-13T02:18:01.318911",
     "exception": false,
     "start_time": "2023-02-13T02:18:01.274744",
     "status": "completed"
    },
    "tags": []
   },
   "outputs": [
    {
     "data": {
      "text/html": [
       "<div>\n",
       "<style scoped>\n",
       "    .dataframe tbody tr th:only-of-type {\n",
       "        vertical-align: middle;\n",
       "    }\n",
       "\n",
       "    .dataframe tbody tr th {\n",
       "        vertical-align: top;\n",
       "    }\n",
       "\n",
       "    .dataframe thead th {\n",
       "        text-align: right;\n",
       "    }\n",
       "</style>\n",
       "<table border=\"1\" class=\"dataframe\">\n",
       "  <thead>\n",
       "    <tr style=\"text-align: right;\">\n",
       "      <th></th>\n",
       "      <th>prompt</th>\n",
       "    </tr>\n",
       "    <tr>\n",
       "      <th>imgId</th>\n",
       "      <th></th>\n",
       "    </tr>\n",
       "  </thead>\n",
       "  <tbody>\n",
       "    <tr>\n",
       "      <th>20057f34d</th>\n",
       "      <td>hyper realistic photo of very friendly and dys...</td>\n",
       "    </tr>\n",
       "    <tr>\n",
       "      <th>227ef0887</th>\n",
       "      <td>ramen carved out of fractal rose ebony, in the...</td>\n",
       "    </tr>\n",
       "    <tr>\n",
       "      <th>92e911621</th>\n",
       "      <td>ultrasaurus holding a black bean taco in the w...</td>\n",
       "    </tr>\n",
       "    <tr>\n",
       "      <th>a4e1c55a9</th>\n",
       "      <td>a thundering retro robot crane inks on parchme...</td>\n",
       "    </tr>\n",
       "    <tr>\n",
       "      <th>c98f79f71</th>\n",
       "      <td>portrait painting of a shimmering greek hero, ...</td>\n",
       "    </tr>\n",
       "    <tr>\n",
       "      <th>d8edf2e40</th>\n",
       "      <td>an astronaut standing on a engaging white rose...</td>\n",
       "    </tr>\n",
       "    <tr>\n",
       "      <th>f27825b2c</th>\n",
       "      <td>Kaggle employee Phil at a donut shop ordering ...</td>\n",
       "    </tr>\n",
       "  </tbody>\n",
       "</table>\n",
       "</div>"
      ],
      "text/plain": [
       "                                                      prompt\n",
       "imgId                                                       \n",
       "20057f34d  hyper realistic photo of very friendly and dys...\n",
       "227ef0887  ramen carved out of fractal rose ebony, in the...\n",
       "92e911621  ultrasaurus holding a black bean taco in the w...\n",
       "a4e1c55a9  a thundering retro robot crane inks on parchme...\n",
       "c98f79f71  portrait painting of a shimmering greek hero, ...\n",
       "d8edf2e40  an astronaut standing on a engaging white rose...\n",
       "f27825b2c  Kaggle employee Phil at a donut shop ordering ..."
      ]
     },
     "execution_count": 2,
     "metadata": {},
     "output_type": "execute_result"
    }
   ],
   "source": [
    "prompts = pd.read_csv(comp_path / 'prompts.csv', index_col='imgId')\n",
    "prompts.head(7)"
   ]
  },
  {
   "cell_type": "markdown",
   "id": "c4a6ac57",
   "metadata": {
    "papermill": {
     "duration": 0.003215,
     "end_time": "2023-02-13T02:18:01.325762",
     "exception": false,
     "start_time": "2023-02-13T02:18:01.322547",
     "status": "completed"
    },
    "tags": []
   },
   "source": [
    "## The Sample Submission contains correct embeddings (for the example images)\n",
    "\n",
    "The `sample_submission.csv` file on the Data page has the correct imbeddings for the prompts listed in the `prompts.csv` file. This is so you can test whether you are calculating embeddings correctly."
   ]
  },
  {
   "cell_type": "code",
   "execution_count": 3,
   "id": "c92bde00",
   "metadata": {
    "execution": {
     "iopub.execute_input": "2023-02-13T02:18:01.334534Z",
     "iopub.status.busy": "2023-02-13T02:18:01.333837Z",
     "iopub.status.idle": "2023-02-13T02:18:01.354222Z",
     "shell.execute_reply": "2023-02-13T02:18:01.353111Z"
    },
    "papermill": {
     "duration": 0.027344,
     "end_time": "2023-02-13T02:18:01.356489",
     "exception": false,
     "start_time": "2023-02-13T02:18:01.329145",
     "status": "completed"
    },
    "tags": []
   },
   "outputs": [
    {
     "data": {
      "text/html": [
       "<div>\n",
       "<style scoped>\n",
       "    .dataframe tbody tr th:only-of-type {\n",
       "        vertical-align: middle;\n",
       "    }\n",
       "\n",
       "    .dataframe tbody tr th {\n",
       "        vertical-align: top;\n",
       "    }\n",
       "\n",
       "    .dataframe thead th {\n",
       "        text-align: right;\n",
       "    }\n",
       "</style>\n",
       "<table border=\"1\" class=\"dataframe\">\n",
       "  <thead>\n",
       "    <tr style=\"text-align: right;\">\n",
       "      <th></th>\n",
       "      <th>val</th>\n",
       "    </tr>\n",
       "    <tr>\n",
       "      <th>imgId_eId</th>\n",
       "      <th></th>\n",
       "    </tr>\n",
       "  </thead>\n",
       "  <tbody>\n",
       "    <tr>\n",
       "      <th>20057f34d_0</th>\n",
       "      <td>0.018848</td>\n",
       "    </tr>\n",
       "    <tr>\n",
       "      <th>20057f34d_1</th>\n",
       "      <td>0.030190</td>\n",
       "    </tr>\n",
       "    <tr>\n",
       "      <th>20057f34d_2</th>\n",
       "      <td>0.072792</td>\n",
       "    </tr>\n",
       "    <tr>\n",
       "      <th>20057f34d_3</th>\n",
       "      <td>-0.000673</td>\n",
       "    </tr>\n",
       "    <tr>\n",
       "      <th>20057f34d_4</th>\n",
       "      <td>0.016774</td>\n",
       "    </tr>\n",
       "  </tbody>\n",
       "</table>\n",
       "</div>"
      ],
      "text/plain": [
       "                  val\n",
       "imgId_eId            \n",
       "20057f34d_0  0.018848\n",
       "20057f34d_1  0.030190\n",
       "20057f34d_2  0.072792\n",
       "20057f34d_3 -0.000673\n",
       "20057f34d_4  0.016774"
      ]
     },
     "execution_count": 3,
     "metadata": {},
     "output_type": "execute_result"
    }
   ],
   "source": [
    "sample_submission = pd.read_csv(comp_path / 'sample_submission.csv', index_col='imgId_eId')\n",
    "sample_submission.head()"
   ]
  },
  {
   "cell_type": "markdown",
   "id": "47202b45",
   "metadata": {
    "papermill": {
     "duration": 0.003453,
     "end_time": "2023-02-13T02:18:01.363995",
     "exception": false,
     "start_time": "2023-02-13T02:18:01.360542",
     "status": "completed"
    },
    "tags": []
   },
   "source": [
    "## Load the embedding model `all-MiniLM-L6-v2`\n",
    "\n",
    "This model maps sentences to a 384 dimensional dense vector space. Load it from the [dataset](https://www.kaggle.com/datasets/inversion/sentence-transformers-222)."
   ]
  },
  {
   "cell_type": "code",
   "execution_count": 4,
   "id": "04314a65",
   "metadata": {
    "execution": {
     "iopub.execute_input": "2023-02-13T02:18:01.373563Z",
     "iopub.status.busy": "2023-02-13T02:18:01.372567Z",
     "iopub.status.idle": "2023-02-13T02:18:04.126282Z",
     "shell.execute_reply": "2023-02-13T02:18:04.125165Z"
    },
    "papermill": {
     "duration": 2.761407,
     "end_time": "2023-02-13T02:18:04.129017",
     "exception": false,
     "start_time": "2023-02-13T02:18:01.367610",
     "status": "completed"
    },
    "tags": []
   },
   "outputs": [],
   "source": [
    "st_model = SentenceTransformer('/kaggle/input/sentence-transformers-222/all-MiniLM-L6-v2')"
   ]
  },
  {
   "cell_type": "markdown",
   "id": "d05eafc1",
   "metadata": {
    "papermill": {
     "duration": 0.003399,
     "end_time": "2023-02-13T02:18:04.136245",
     "exception": false,
     "start_time": "2023-02-13T02:18:04.132846",
     "status": "completed"
    },
    "tags": []
   },
   "source": [
    "## Calculate prompt embeddings"
   ]
  },
  {
   "cell_type": "code",
   "execution_count": 5,
   "id": "b21adbe4",
   "metadata": {
    "execution": {
     "iopub.execute_input": "2023-02-13T02:18:04.146535Z",
     "iopub.status.busy": "2023-02-13T02:18:04.145344Z",
     "iopub.status.idle": "2023-02-13T02:18:04.349269Z",
     "shell.execute_reply": "2023-02-13T02:18:04.348382Z"
    },
    "papermill": {
     "duration": 0.211436,
     "end_time": "2023-02-13T02:18:04.351411",
     "exception": false,
     "start_time": "2023-02-13T02:18:04.139975",
     "status": "completed"
    },
    "tags": []
   },
   "outputs": [
    {
     "data": {
      "application/vnd.jupyter.widget-view+json": {
       "model_id": "98b2d0d133fc42b080fc7c332cb63c8e",
       "version_major": 2,
       "version_minor": 0
      },
      "text/plain": [
       "Batches:   0%|          | 0/1 [00:00<?, ?it/s]"
      ]
     },
     "metadata": {},
     "output_type": "display_data"
    }
   ],
   "source": [
    "prompt_embeddings = st_model.encode(prompts['prompt']).flatten()"
   ]
  },
  {
   "cell_type": "markdown",
   "id": "99f011f7",
   "metadata": {
    "papermill": {
     "duration": 0.00352,
     "end_time": "2023-02-13T02:18:04.358969",
     "exception": false,
     "start_time": "2023-02-13T02:18:04.355449",
     "status": "completed"
    },
    "tags": []
   },
   "source": [
    "## Compare calculated embeddings with ground truth (within tolerance)"
   ]
  },
  {
   "cell_type": "code",
   "execution_count": 6,
   "id": "89a875df",
   "metadata": {
    "execution": {
     "iopub.execute_input": "2023-02-13T02:18:04.368499Z",
     "iopub.status.busy": "2023-02-13T02:18:04.368083Z",
     "iopub.status.idle": "2023-02-13T02:18:04.374329Z",
     "shell.execute_reply": "2023-02-13T02:18:04.373163Z"
    },
    "papermill": {
     "duration": 0.013626,
     "end_time": "2023-02-13T02:18:04.376360",
     "exception": false,
     "start_time": "2023-02-13T02:18:04.362734",
     "status": "completed"
    },
    "tags": []
   },
   "outputs": [],
   "source": [
    "assert np.all(np.isclose(sample_submission['val'].values, prompt_embeddings, atol=1e-07))"
   ]
  }
 ],
 "metadata": {
  "kernelspec": {
   "display_name": "Python 3",
   "language": "python",
   "name": "python3"
  },
  "language_info": {
   "codemirror_mode": {
    "name": "ipython",
    "version": 3
   },
   "file_extension": ".py",
   "mimetype": "text/x-python",
   "name": "python",
   "nbconvert_exporter": "python",
   "pygments_lexer": "ipython3",
   "version": "3.7.12"
  },
  "papermill": {
   "default_parameters": {},
   "duration": 17.265461,
   "end_time": "2023-02-13T02:18:05.603899",
   "environment_variables": {},
   "exception": null,
   "input_path": "__notebook__.ipynb",
   "output_path": "__notebook__.ipynb",
   "parameters": {},
   "start_time": "2023-02-13T02:17:48.338438",
   "version": "2.3.4"
  },
  "widgets": {
   "application/vnd.jupyter.widget-state+json": {
    "state": {
     "0334665e524248e2979d281c4aa7aa26": {
      "model_module": "@jupyter-widgets/controls",
      "model_module_version": "1.5.0",
      "model_name": "DescriptionStyleModel",
      "state": {
       "_model_module": "@jupyter-widgets/controls",
       "_model_module_version": "1.5.0",
       "_model_name": "DescriptionStyleModel",
       "_view_count": null,
       "_view_module": "@jupyter-widgets/base",
       "_view_module_version": "1.2.0",
       "_view_name": "StyleView",
       "description_width": ""
      }
     },
     "267bd9f27fe546ffa73e8e4c6f19b7b4": {
      "model_module": "@jupyter-widgets/base",
      "model_module_version": "1.2.0",
      "model_name": "LayoutModel",
      "state": {
       "_model_module": "@jupyter-widgets/base",
       "_model_module_version": "1.2.0",
       "_model_name": "LayoutModel",
       "_view_count": null,
       "_view_module": "@jupyter-widgets/base",
       "_view_module_version": "1.2.0",
       "_view_name": "LayoutView",
       "align_content": null,
       "align_items": null,
       "align_self": null,
       "border": null,
       "bottom": null,
       "display": null,
       "flex": null,
       "flex_flow": null,
       "grid_area": null,
       "grid_auto_columns": null,
       "grid_auto_flow": null,
       "grid_auto_rows": null,
       "grid_column": null,
       "grid_gap": null,
       "grid_row": null,
       "grid_template_areas": null,
       "grid_template_columns": null,
       "grid_template_rows": null,
       "height": null,
       "justify_content": null,
       "justify_items": null,
       "left": null,
       "margin": null,
       "max_height": null,
       "max_width": null,
       "min_height": null,
       "min_width": null,
       "object_fit": null,
       "object_position": null,
       "order": null,
       "overflow": null,
       "overflow_x": null,
       "overflow_y": null,
       "padding": null,
       "right": null,
       "top": null,
       "visibility": null,
       "width": null
      }
     },
     "34c828a3755d4e96adcbc5e44bf7308d": {
      "model_module": "@jupyter-widgets/controls",
      "model_module_version": "1.5.0",
      "model_name": "FloatProgressModel",
      "state": {
       "_dom_classes": [],
       "_model_module": "@jupyter-widgets/controls",
       "_model_module_version": "1.5.0",
       "_model_name": "FloatProgressModel",
       "_view_count": null,
       "_view_module": "@jupyter-widgets/controls",
       "_view_module_version": "1.5.0",
       "_view_name": "ProgressView",
       "bar_style": "success",
       "description": "",
       "description_tooltip": null,
       "layout": "IPY_MODEL_267bd9f27fe546ffa73e8e4c6f19b7b4",
       "max": 1.0,
       "min": 0.0,
       "orientation": "horizontal",
       "style": "IPY_MODEL_78afacfa0f074676a60b580b1133f391",
       "value": 1.0
      }
     },
     "51dc607688ad47a283dcf65b41a1c177": {
      "model_module": "@jupyter-widgets/controls",
      "model_module_version": "1.5.0",
      "model_name": "HTMLModel",
      "state": {
       "_dom_classes": [],
       "_model_module": "@jupyter-widgets/controls",
       "_model_module_version": "1.5.0",
       "_model_name": "HTMLModel",
       "_view_count": null,
       "_view_module": "@jupyter-widgets/controls",
       "_view_module_version": "1.5.0",
       "_view_name": "HTMLView",
       "description": "",
       "description_tooltip": null,
       "layout": "IPY_MODEL_5abfe1a5a0ea422b96ebcd0d6a6a9ccf",
       "placeholder": "​",
       "style": "IPY_MODEL_0334665e524248e2979d281c4aa7aa26",
       "value": "Batches: 100%"
      }
     },
     "5abfe1a5a0ea422b96ebcd0d6a6a9ccf": {
      "model_module": "@jupyter-widgets/base",
      "model_module_version": "1.2.0",
      "model_name": "LayoutModel",
      "state": {
       "_model_module": "@jupyter-widgets/base",
       "_model_module_version": "1.2.0",
       "_model_name": "LayoutModel",
       "_view_count": null,
       "_view_module": "@jupyter-widgets/base",
       "_view_module_version": "1.2.0",
       "_view_name": "LayoutView",
       "align_content": null,
       "align_items": null,
       "align_self": null,
       "border": null,
       "bottom": null,
       "display": null,
       "flex": null,
       "flex_flow": null,
       "grid_area": null,
       "grid_auto_columns": null,
       "grid_auto_flow": null,
       "grid_auto_rows": null,
       "grid_column": null,
       "grid_gap": null,
       "grid_row": null,
       "grid_template_areas": null,
       "grid_template_columns": null,
       "grid_template_rows": null,
       "height": null,
       "justify_content": null,
       "justify_items": null,
       "left": null,
       "margin": null,
       "max_height": null,
       "max_width": null,
       "min_height": null,
       "min_width": null,
       "object_fit": null,
       "object_position": null,
       "order": null,
       "overflow": null,
       "overflow_x": null,
       "overflow_y": null,
       "padding": null,
       "right": null,
       "top": null,
       "visibility": null,
       "width": null
      }
     },
     "74dae89a3df14fd5b1dc9a83c2d90637": {
      "model_module": "@jupyter-widgets/controls",
      "model_module_version": "1.5.0",
      "model_name": "DescriptionStyleModel",
      "state": {
       "_model_module": "@jupyter-widgets/controls",
       "_model_module_version": "1.5.0",
       "_model_name": "DescriptionStyleModel",
       "_view_count": null,
       "_view_module": "@jupyter-widgets/base",
       "_view_module_version": "1.2.0",
       "_view_name": "StyleView",
       "description_width": ""
      }
     },
     "78afacfa0f074676a60b580b1133f391": {
      "model_module": "@jupyter-widgets/controls",
      "model_module_version": "1.5.0",
      "model_name": "ProgressStyleModel",
      "state": {
       "_model_module": "@jupyter-widgets/controls",
       "_model_module_version": "1.5.0",
       "_model_name": "ProgressStyleModel",
       "_view_count": null,
       "_view_module": "@jupyter-widgets/base",
       "_view_module_version": "1.2.0",
       "_view_name": "StyleView",
       "bar_color": null,
       "description_width": ""
      }
     },
     "82f34a4e69eb4544ba7b7c3244a5f4e0": {
      "model_module": "@jupyter-widgets/base",
      "model_module_version": "1.2.0",
      "model_name": "LayoutModel",
      "state": {
       "_model_module": "@jupyter-widgets/base",
       "_model_module_version": "1.2.0",
       "_model_name": "LayoutModel",
       "_view_count": null,
       "_view_module": "@jupyter-widgets/base",
       "_view_module_version": "1.2.0",
       "_view_name": "LayoutView",
       "align_content": null,
       "align_items": null,
       "align_self": null,
       "border": null,
       "bottom": null,
       "display": null,
       "flex": null,
       "flex_flow": null,
       "grid_area": null,
       "grid_auto_columns": null,
       "grid_auto_flow": null,
       "grid_auto_rows": null,
       "grid_column": null,
       "grid_gap": null,
       "grid_row": null,
       "grid_template_areas": null,
       "grid_template_columns": null,
       "grid_template_rows": null,
       "height": null,
       "justify_content": null,
       "justify_items": null,
       "left": null,
       "margin": null,
       "max_height": null,
       "max_width": null,
       "min_height": null,
       "min_width": null,
       "object_fit": null,
       "object_position": null,
       "order": null,
       "overflow": null,
       "overflow_x": null,
       "overflow_y": null,
       "padding": null,
       "right": null,
       "top": null,
       "visibility": null,
       "width": null
      }
     },
     "98b2d0d133fc42b080fc7c332cb63c8e": {
      "model_module": "@jupyter-widgets/controls",
      "model_module_version": "1.5.0",
      "model_name": "HBoxModel",
      "state": {
       "_dom_classes": [],
       "_model_module": "@jupyter-widgets/controls",
       "_model_module_version": "1.5.0",
       "_model_name": "HBoxModel",
       "_view_count": null,
       "_view_module": "@jupyter-widgets/controls",
       "_view_module_version": "1.5.0",
       "_view_name": "HBoxView",
       "box_style": "",
       "children": [
        "IPY_MODEL_51dc607688ad47a283dcf65b41a1c177",
        "IPY_MODEL_34c828a3755d4e96adcbc5e44bf7308d",
        "IPY_MODEL_da0e596cc206477882130b38a7557ff1"
       ],
       "layout": "IPY_MODEL_82f34a4e69eb4544ba7b7c3244a5f4e0"
      }
     },
     "cbc2ded75e1d4db88ef46f6049daea0f": {
      "model_module": "@jupyter-widgets/base",
      "model_module_version": "1.2.0",
      "model_name": "LayoutModel",
      "state": {
       "_model_module": "@jupyter-widgets/base",
       "_model_module_version": "1.2.0",
       "_model_name": "LayoutModel",
       "_view_count": null,
       "_view_module": "@jupyter-widgets/base",
       "_view_module_version": "1.2.0",
       "_view_name": "LayoutView",
       "align_content": null,
       "align_items": null,
       "align_self": null,
       "border": null,
       "bottom": null,
       "display": null,
       "flex": null,
       "flex_flow": null,
       "grid_area": null,
       "grid_auto_columns": null,
       "grid_auto_flow": null,
       "grid_auto_rows": null,
       "grid_column": null,
       "grid_gap": null,
       "grid_row": null,
       "grid_template_areas": null,
       "grid_template_columns": null,
       "grid_template_rows": null,
       "height": null,
       "justify_content": null,
       "justify_items": null,
       "left": null,
       "margin": null,
       "max_height": null,
       "max_width": null,
       "min_height": null,
       "min_width": null,
       "object_fit": null,
       "object_position": null,
       "order": null,
       "overflow": null,
       "overflow_x": null,
       "overflow_y": null,
       "padding": null,
       "right": null,
       "top": null,
       "visibility": null,
       "width": null
      }
     },
     "da0e596cc206477882130b38a7557ff1": {
      "model_module": "@jupyter-widgets/controls",
      "model_module_version": "1.5.0",
      "model_name": "HTMLModel",
      "state": {
       "_dom_classes": [],
       "_model_module": "@jupyter-widgets/controls",
       "_model_module_version": "1.5.0",
       "_model_name": "HTMLModel",
       "_view_count": null,
       "_view_module": "@jupyter-widgets/controls",
       "_view_module_version": "1.5.0",
       "_view_name": "HTMLView",
       "description": "",
       "description_tooltip": null,
       "layout": "IPY_MODEL_cbc2ded75e1d4db88ef46f6049daea0f",
       "placeholder": "​",
       "style": "IPY_MODEL_74dae89a3df14fd5b1dc9a83c2d90637",
       "value": " 1/1 [00:00&lt;00:00,  5.35it/s]"
      }
     }
    },
    "version_major": 2,
    "version_minor": 0
   }
  }
 },
 "nbformat": 4,
 "nbformat_minor": 5
}
